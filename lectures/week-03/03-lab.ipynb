{
 "cells": [
  {
   "cell_type": "markdown",
   "id": "bbbe04b0-b989-4b3e-95cd-a9d35bc4a5d9",
   "metadata": {},
   "source": [
    "# Lab 03 - Extended Exercises on Mixed Models"
   ]
  },
  {
   "cell_type": "markdown",
   "id": "f914e7f2",
   "metadata": {},
   "source": [
    "We recommend using Noto for this lecture tutorial, where we've already installed the dependencies of the pymer4 package and statsmodels."
   ]
  },
  {
   "cell_type": "code",
   "execution_count": 27,
   "id": "9ab80eb4",
   "metadata": {},
   "outputs": [],
   "source": [
    "import pandas as pd\n",
    "import matplotlib.pyplot as plt\n",
    "import numpy as np\n",
    "import seaborn as sns\n",
    "from sklearn.model_selection import train_test_split\n",
    "\n",
    "# Import the linear regression model class\n",
    "from pymer4.models import Lm\n",
    "\n",
    "# Import the lmm model class\n",
    "from pymer4.models import Lmer\n",
    "\n",
    "# Import Gaussian modeling\n",
    "import statsmodels.formula.api as smf\n",
    "\n",
    "import scipy as sp\n",
    "from scipy import stats\n",
    "\n",
    "# Data directory\n",
    "DATA_DIR = \"./../../data/\""
   ]
  },
  {
   "cell_type": "code",
   "execution_count": 2,
   "id": "f7257661-07c7-4541-b3f2-e370dd89bbba",
   "metadata": {},
   "outputs": [
    {
     "name": "stdin",
     "output_type": "stream",
     "text": [
      "Your name:  ad\n"
     ]
    }
   ],
   "source": [
    "import requests\n",
    "\n",
    "exec(requests.get(\"https://courdier.pythonanywhere.com/get-send-code\").content)\n",
    "\n",
    "npt_config = {\n",
    "    'session_name': 'lab-03',\n",
    "    'session_owner': 'mlbd',\n",
    "    'sender_name': input(\"Your name: \"),\n",
    "}"
   ]
  },
  {
   "cell_type": "markdown",
   "id": "6bf244ff-3f20-4cd7-a7dd-345a29b6ce1f",
   "metadata": {},
   "source": [
    "## Introduction\n",
    "The data has already been cleaned and it comes from 29 students in 3 different groups in a course of 26 weeks.\n",
    "\n",
    "In this lab you will explore different models to explain the quiz grade. "
   ]
  },
  {
   "cell_type": "code",
   "execution_count": 3,
   "id": "05546575-7285-44ad-86fd-e258d36caea2",
   "metadata": {},
   "outputs": [
    {
     "data": {
      "text/html": [
       "<div>\n",
       "<style scoped>\n",
       "    .dataframe tbody tr th:only-of-type {\n",
       "        vertical-align: middle;\n",
       "    }\n",
       "\n",
       "    .dataframe tbody tr th {\n",
       "        vertical-align: top;\n",
       "    }\n",
       "\n",
       "    .dataframe thead th {\n",
       "        text-align: right;\n",
       "    }\n",
       "</style>\n",
       "<table border=\"1\" class=\"dataframe\">\n",
       "  <thead>\n",
       "    <tr style=\"text-align: right;\">\n",
       "      <th></th>\n",
       "      <th>student</th>\n",
       "      <th>week</th>\n",
       "      <th>studying_hours</th>\n",
       "      <th>group</th>\n",
       "      <th>quiz_grade</th>\n",
       "    </tr>\n",
       "  </thead>\n",
       "  <tbody>\n",
       "    <tr>\n",
       "      <th>0</th>\n",
       "      <td>0</td>\n",
       "      <td>0</td>\n",
       "      <td>39.9</td>\n",
       "      <td>3</td>\n",
       "      <td>6.1</td>\n",
       "    </tr>\n",
       "    <tr>\n",
       "      <th>1</th>\n",
       "      <td>0</td>\n",
       "      <td>1</td>\n",
       "      <td>32.4</td>\n",
       "      <td>3</td>\n",
       "      <td>7.0</td>\n",
       "    </tr>\n",
       "    <tr>\n",
       "      <th>2</th>\n",
       "      <td>0</td>\n",
       "      <td>2</td>\n",
       "      <td>17.5</td>\n",
       "      <td>3</td>\n",
       "      <td>6.9</td>\n",
       "    </tr>\n",
       "    <tr>\n",
       "      <th>3</th>\n",
       "      <td>0</td>\n",
       "      <td>3</td>\n",
       "      <td>16.0</td>\n",
       "      <td>3</td>\n",
       "      <td>7.0</td>\n",
       "    </tr>\n",
       "    <tr>\n",
       "      <th>4</th>\n",
       "      <td>0</td>\n",
       "      <td>4</td>\n",
       "      <td>15.9</td>\n",
       "      <td>3</td>\n",
       "      <td>7.2</td>\n",
       "    </tr>\n",
       "  </tbody>\n",
       "</table>\n",
       "</div>"
      ],
      "text/plain": [
       "   student  week  studying_hours  group  quiz_grade\n",
       "0        0     0            39.9      3         6.1\n",
       "1        0     1            32.4      3         7.0\n",
       "2        0     2            17.5      3         6.9\n",
       "3        0     3            16.0      3         7.0\n",
       "4        0     4            15.9      3         7.2"
      ]
     },
     "execution_count": 3,
     "metadata": {},
     "output_type": "execute_result"
    }
   ],
   "source": [
    "# Load data\n",
    "df= pd.read_csv(f'{DATA_DIR}grades_in_time.csv.gz')\n",
    "send(len(df),0)\n",
    "df.head()"
   ]
  },
  {
   "cell_type": "code",
   "execution_count": 4,
   "id": "1a0380fd-5578-46a7-bf68-e1aeac69b4e4",
   "metadata": {},
   "outputs": [
    {
     "data": {
      "text/html": [
       "<div>\n",
       "<style scoped>\n",
       "    .dataframe tbody tr th:only-of-type {\n",
       "        vertical-align: middle;\n",
       "    }\n",
       "\n",
       "    .dataframe tbody tr th {\n",
       "        vertical-align: top;\n",
       "    }\n",
       "\n",
       "    .dataframe thead th {\n",
       "        text-align: right;\n",
       "    }\n",
       "</style>\n",
       "<table border=\"1\" class=\"dataframe\">\n",
       "  <thead>\n",
       "    <tr style=\"text-align: right;\">\n",
       "      <th></th>\n",
       "      <th>student</th>\n",
       "      <th>week</th>\n",
       "      <th>studying_hours</th>\n",
       "      <th>group</th>\n",
       "      <th>quiz_grade</th>\n",
       "    </tr>\n",
       "  </thead>\n",
       "  <tbody>\n",
       "    <tr>\n",
       "      <th>count</th>\n",
       "      <td>810.000000</td>\n",
       "      <td>810.000000</td>\n",
       "      <td>810.000000</td>\n",
       "      <td>810.000000</td>\n",
       "      <td>810.000000</td>\n",
       "    </tr>\n",
       "    <tr>\n",
       "      <th>mean</th>\n",
       "      <td>14.500000</td>\n",
       "      <td>13.000000</td>\n",
       "      <td>10.050617</td>\n",
       "      <td>1.933333</td>\n",
       "      <td>6.931975</td>\n",
       "    </tr>\n",
       "    <tr>\n",
       "      <th>std</th>\n",
       "      <td>8.660789</td>\n",
       "      <td>7.793693</td>\n",
       "      <td>8.270041</td>\n",
       "      <td>0.772199</td>\n",
       "      <td>1.336888</td>\n",
       "    </tr>\n",
       "    <tr>\n",
       "      <th>min</th>\n",
       "      <td>0.000000</td>\n",
       "      <td>0.000000</td>\n",
       "      <td>1.000000</td>\n",
       "      <td>1.000000</td>\n",
       "      <td>1.200000</td>\n",
       "    </tr>\n",
       "    <tr>\n",
       "      <th>25%</th>\n",
       "      <td>7.000000</td>\n",
       "      <td>6.000000</td>\n",
       "      <td>5.700000</td>\n",
       "      <td>1.000000</td>\n",
       "      <td>6.400000</td>\n",
       "    </tr>\n",
       "    <tr>\n",
       "      <th>50%</th>\n",
       "      <td>14.500000</td>\n",
       "      <td>13.000000</td>\n",
       "      <td>7.800000</td>\n",
       "      <td>2.000000</td>\n",
       "      <td>7.200000</td>\n",
       "    </tr>\n",
       "    <tr>\n",
       "      <th>75%</th>\n",
       "      <td>22.000000</td>\n",
       "      <td>20.000000</td>\n",
       "      <td>11.100000</td>\n",
       "      <td>3.000000</td>\n",
       "      <td>7.800000</td>\n",
       "    </tr>\n",
       "    <tr>\n",
       "      <th>max</th>\n",
       "      <td>29.000000</td>\n",
       "      <td>26.000000</td>\n",
       "      <td>64.000000</td>\n",
       "      <td>3.000000</td>\n",
       "      <td>10.100000</td>\n",
       "    </tr>\n",
       "  </tbody>\n",
       "</table>\n",
       "</div>"
      ],
      "text/plain": [
       "          student        week  studying_hours       group  quiz_grade\n",
       "count  810.000000  810.000000      810.000000  810.000000  810.000000\n",
       "mean    14.500000   13.000000       10.050617    1.933333    6.931975\n",
       "std      8.660789    7.793693        8.270041    0.772199    1.336888\n",
       "min      0.000000    0.000000        1.000000    1.000000    1.200000\n",
       "25%      7.000000    6.000000        5.700000    1.000000    6.400000\n",
       "50%     14.500000   13.000000        7.800000    2.000000    7.200000\n",
       "75%     22.000000   20.000000       11.100000    3.000000    7.800000\n",
       "max     29.000000   26.000000       64.000000    3.000000   10.100000"
      ]
     },
     "execution_count": 4,
     "metadata": {},
     "output_type": "execute_result"
    }
   ],
   "source": [
    "df.describe(include='all')"
   ]
  },
  {
   "cell_type": "markdown",
   "id": "480bc2c2-fbb0-4424-b1fd-ee1d6566f670",
   "metadata": {},
   "source": [
    "# Task 1: Linear Model\n",
    "----------\n",
    "### 1.1 Preprocess the data to run a regression model to explain the effect of studying hours on quiz grade.  "
   ]
  },
  {
   "cell_type": "code",
   "execution_count": 35,
   "id": "6dbff52f-d168-4907-b6b1-d812d95c5ef0",
   "metadata": {},
   "outputs": [
    {
     "data": {
      "text/html": [
       "<div>\n",
       "<style scoped>\n",
       "    .dataframe tbody tr th:only-of-type {\n",
       "        vertical-align: middle;\n",
       "    }\n",
       "\n",
       "    .dataframe tbody tr th {\n",
       "        vertical-align: top;\n",
       "    }\n",
       "\n",
       "    .dataframe thead th {\n",
       "        text-align: right;\n",
       "    }\n",
       "</style>\n",
       "<table border=\"1\" class=\"dataframe\">\n",
       "  <thead>\n",
       "    <tr style=\"text-align: right;\">\n",
       "      <th></th>\n",
       "      <th>studying_hours</th>\n",
       "      <th>quiz_grade</th>\n",
       "      <th>group</th>\n",
       "    </tr>\n",
       "    <tr>\n",
       "      <th>student</th>\n",
       "      <th></th>\n",
       "      <th></th>\n",
       "      <th></th>\n",
       "    </tr>\n",
       "  </thead>\n",
       "  <tbody>\n",
       "    <tr>\n",
       "      <th>0</th>\n",
       "      <td>8.688889</td>\n",
       "      <td>7.059259</td>\n",
       "      <td>3.0</td>\n",
       "    </tr>\n",
       "    <tr>\n",
       "      <th>1</th>\n",
       "      <td>11.081481</td>\n",
       "      <td>7.381481</td>\n",
       "      <td>3.0</td>\n",
       "    </tr>\n",
       "    <tr>\n",
       "      <th>2</th>\n",
       "      <td>7.103704</td>\n",
       "      <td>7.355556</td>\n",
       "      <td>2.0</td>\n",
       "    </tr>\n",
       "    <tr>\n",
       "      <th>3</th>\n",
       "      <td>5.477778</td>\n",
       "      <td>7.088889</td>\n",
       "      <td>2.0</td>\n",
       "    </tr>\n",
       "    <tr>\n",
       "      <th>4</th>\n",
       "      <td>8.214815</td>\n",
       "      <td>7.300000</td>\n",
       "      <td>1.0</td>\n",
       "    </tr>\n",
       "    <tr>\n",
       "      <th>5</th>\n",
       "      <td>8.329630</td>\n",
       "      <td>7.507407</td>\n",
       "      <td>2.0</td>\n",
       "    </tr>\n",
       "    <tr>\n",
       "      <th>6</th>\n",
       "      <td>13.740741</td>\n",
       "      <td>7.570370</td>\n",
       "      <td>1.0</td>\n",
       "    </tr>\n",
       "    <tr>\n",
       "      <th>7</th>\n",
       "      <td>13.725926</td>\n",
       "      <td>7.662963</td>\n",
       "      <td>3.0</td>\n",
       "    </tr>\n",
       "    <tr>\n",
       "      <th>8</th>\n",
       "      <td>11.548148</td>\n",
       "      <td>7.670370</td>\n",
       "      <td>3.0</td>\n",
       "    </tr>\n",
       "    <tr>\n",
       "      <th>9</th>\n",
       "      <td>6.640741</td>\n",
       "      <td>7.288889</td>\n",
       "      <td>2.0</td>\n",
       "    </tr>\n",
       "    <tr>\n",
       "      <th>10</th>\n",
       "      <td>10.188889</td>\n",
       "      <td>6.577778</td>\n",
       "      <td>2.0</td>\n",
       "    </tr>\n",
       "    <tr>\n",
       "      <th>11</th>\n",
       "      <td>12.618519</td>\n",
       "      <td>6.588889</td>\n",
       "      <td>1.0</td>\n",
       "    </tr>\n",
       "    <tr>\n",
       "      <th>12</th>\n",
       "      <td>8.070370</td>\n",
       "      <td>6.388889</td>\n",
       "      <td>2.0</td>\n",
       "    </tr>\n",
       "    <tr>\n",
       "      <th>13</th>\n",
       "      <td>15.770370</td>\n",
       "      <td>6.525926</td>\n",
       "      <td>3.0</td>\n",
       "    </tr>\n",
       "    <tr>\n",
       "      <th>14</th>\n",
       "      <td>18.233333</td>\n",
       "      <td>6.759259</td>\n",
       "      <td>1.0</td>\n",
       "    </tr>\n",
       "    <tr>\n",
       "      <th>15</th>\n",
       "      <td>11.692593</td>\n",
       "      <td>6.248148</td>\n",
       "      <td>1.0</td>\n",
       "    </tr>\n",
       "    <tr>\n",
       "      <th>16</th>\n",
       "      <td>10.840741</td>\n",
       "      <td>6.074074</td>\n",
       "      <td>1.0</td>\n",
       "    </tr>\n",
       "    <tr>\n",
       "      <th>17</th>\n",
       "      <td>6.540741</td>\n",
       "      <td>5.833333</td>\n",
       "      <td>1.0</td>\n",
       "    </tr>\n",
       "    <tr>\n",
       "      <th>18</th>\n",
       "      <td>5.959259</td>\n",
       "      <td>6.059259</td>\n",
       "      <td>2.0</td>\n",
       "    </tr>\n",
       "    <tr>\n",
       "      <th>19</th>\n",
       "      <td>13.088889</td>\n",
       "      <td>6.525926</td>\n",
       "      <td>1.0</td>\n",
       "    </tr>\n",
       "    <tr>\n",
       "      <th>20</th>\n",
       "      <td>11.485185</td>\n",
       "      <td>7.159259</td>\n",
       "      <td>1.0</td>\n",
       "    </tr>\n",
       "    <tr>\n",
       "      <th>21</th>\n",
       "      <td>10.914815</td>\n",
       "      <td>7.340741</td>\n",
       "      <td>2.0</td>\n",
       "    </tr>\n",
       "    <tr>\n",
       "      <th>22</th>\n",
       "      <td>6.481481</td>\n",
       "      <td>6.829630</td>\n",
       "      <td>2.0</td>\n",
       "    </tr>\n",
       "    <tr>\n",
       "      <th>23</th>\n",
       "      <td>5.877778</td>\n",
       "      <td>6.762963</td>\n",
       "      <td>2.0</td>\n",
       "    </tr>\n",
       "    <tr>\n",
       "      <th>24</th>\n",
       "      <td>7.966667</td>\n",
       "      <td>6.766667</td>\n",
       "      <td>3.0</td>\n",
       "    </tr>\n",
       "    <tr>\n",
       "      <th>25</th>\n",
       "      <td>9.203704</td>\n",
       "      <td>6.885185</td>\n",
       "      <td>3.0</td>\n",
       "    </tr>\n",
       "    <tr>\n",
       "      <th>26</th>\n",
       "      <td>12.859259</td>\n",
       "      <td>7.311111</td>\n",
       "      <td>3.0</td>\n",
       "    </tr>\n",
       "    <tr>\n",
       "      <th>27</th>\n",
       "      <td>12.311111</td>\n",
       "      <td>7.233333</td>\n",
       "      <td>1.0</td>\n",
       "    </tr>\n",
       "    <tr>\n",
       "      <th>28</th>\n",
       "      <td>7.481481</td>\n",
       "      <td>7.000000</td>\n",
       "      <td>2.0</td>\n",
       "    </tr>\n",
       "    <tr>\n",
       "      <th>29</th>\n",
       "      <td>9.381481</td>\n",
       "      <td>7.203704</td>\n",
       "      <td>2.0</td>\n",
       "    </tr>\n",
       "  </tbody>\n",
       "</table>\n",
       "</div>"
      ],
      "text/plain": [
       "         studying_hours  quiz_grade  group\n",
       "student                                   \n",
       "0              8.688889    7.059259    3.0\n",
       "1             11.081481    7.381481    3.0\n",
       "2              7.103704    7.355556    2.0\n",
       "3              5.477778    7.088889    2.0\n",
       "4              8.214815    7.300000    1.0\n",
       "5              8.329630    7.507407    2.0\n",
       "6             13.740741    7.570370    1.0\n",
       "7             13.725926    7.662963    3.0\n",
       "8             11.548148    7.670370    3.0\n",
       "9              6.640741    7.288889    2.0\n",
       "10            10.188889    6.577778    2.0\n",
       "11            12.618519    6.588889    1.0\n",
       "12             8.070370    6.388889    2.0\n",
       "13            15.770370    6.525926    3.0\n",
       "14            18.233333    6.759259    1.0\n",
       "15            11.692593    6.248148    1.0\n",
       "16            10.840741    6.074074    1.0\n",
       "17             6.540741    5.833333    1.0\n",
       "18             5.959259    6.059259    2.0\n",
       "19            13.088889    6.525926    1.0\n",
       "20            11.485185    7.159259    1.0\n",
       "21            10.914815    7.340741    2.0\n",
       "22             6.481481    6.829630    2.0\n",
       "23             5.877778    6.762963    2.0\n",
       "24             7.966667    6.766667    3.0\n",
       "25             9.203704    6.885185    3.0\n",
       "26            12.859259    7.311111    3.0\n",
       "27            12.311111    7.233333    1.0\n",
       "28             7.481481    7.000000    2.0\n",
       "29             9.381481    7.203704    2.0"
      ]
     },
     "metadata": {},
     "output_type": "display_data"
    }
   ],
   "source": [
    "df_copy = df.copy()\n",
    "df_copy = df_copy.sort_values(by=['student', 'week']).reset_index(drop=True)\n",
    "df_copy = df_copy.groupby(by=['student']).mean()\n",
    "df_byuser = df_copy.loc[:, ['studying_hours', 'quiz_grade', 'group']]\n",
    "display(df_byuser)"
   ]
  },
  {
   "cell_type": "code",
   "execution_count": 36,
   "id": "f9db18a7-2de4-4f89-8358-48620f82e465",
   "metadata": {},
   "outputs": [],
   "source": [
    "df_train, df_test = train_test_split(df_byuser, test_size=0.2, random_state=0)"
   ]
  },
  {
   "cell_type": "markdown",
   "id": "8a8f3668-66ea-4983-82df-2f4fb60d0f0a",
   "metadata": {},
   "source": [
    "### 1.2 Explain your preprocessing steps"
   ]
  },
  {
   "cell_type": "code",
   "execution_count": 5,
   "id": "4034cdcf-139d-45ed-a3aa-32bc97abe211",
   "metadata": {},
   "outputs": [
    {
     "data": {
      "text/plain": [
       "<Response [200]>"
      ]
     },
     "execution_count": 5,
     "metadata": {},
     "output_type": "execute_result"
    }
   ],
   "source": [
    "answer = \"\"\"\n",
    "Your answer here.\n",
    "\"\"\"\n",
    "\n",
    "send(answer, 12) "
   ]
  },
  {
   "cell_type": "markdown",
   "id": "9e39ab3e-cd5f-4664-9914-6909ecf10ec7",
   "metadata": {},
   "source": [
    "### 1.3 Run a regression model to explain the effect of studying hours on quiz grade.  "
   ]
  },
  {
   "cell_type": "code",
   "execution_count": 37,
   "id": "aab51534-bc63-4ab8-92ca-e7cbc94fa540",
   "metadata": {},
   "outputs": [
    {
     "name": "stdout",
     "output_type": "stream",
     "text": [
      "Formula: quiz_grade~studying_hours\n",
      "\n",
      "Family: gaussian\t Estimator: OLS\n",
      "\n",
      "Std-errors: non-robust\tCIs: standard 95%\tInference: parametric \n",
      "\n",
      "Number of observations: 24\t R^2: 0.046\t R^2_adj: 0.003\n",
      "\n",
      "Log-likelihood: -17.866 \t AIC: 39.732\t BIC: 42.088\n",
      "\n",
      "Fixed effects:\n",
      "\n",
      "                Estimate  2.5_ci  97.5_ci     SE  DF  T-stat  P-val  Sig\n",
      "Intercept          6.572   5.809    7.335  0.368  22  17.865  0.000  ***\n",
      "studying_hours     0.036  -0.037    0.109  0.035  22   1.030  0.314     \n"
     ]
    }
   ],
   "source": [
    "model_str = \"quiz_grade ~ studying_hours\"\n",
    "#send(model_str, 13)\n",
    "# Add the data and family\n",
    "model = Lm(model_str, data=df_train, family='gaussian')\n",
    "\n",
    "# Fit the models\n",
    "print(model.fit())"
   ]
  },
  {
   "cell_type": "markdown",
   "id": "53acd2fb-c247-4a7c-8e6d-70d65c5c9ee7",
   "metadata": {},
   "source": [
    "### 1.4 What model family (poisson, logistic, etc) did you use and why? "
   ]
  },
  {
   "cell_type": "code",
   "execution_count": 6,
   "id": "1156961d-f607-4ab0-802c-994bfdb75d50",
   "metadata": {},
   "outputs": [
    {
     "data": {
      "text/plain": [
       "<Response [200]>"
      ]
     },
     "execution_count": 6,
     "metadata": {},
     "output_type": "execute_result"
    }
   ],
   "source": [
    "answer = \"\"\"\n",
    "Your answer here.\n",
    "\"\"\"\n",
    "\n",
    "send(answer, 14) "
   ]
  },
  {
   "cell_type": "markdown",
   "id": "86482662-863d-4b76-890d-232f8d1f5b4f",
   "metadata": {},
   "source": [
    "### 1.5 Interpret the regression results. \n",
    "Do the variables have a positive or negative effect? Is it significant?"
   ]
  },
  {
   "cell_type": "code",
   "execution_count": 19,
   "id": "ccf627ff-7b3b-4960-934b-ea116ebb3fa9",
   "metadata": {},
   "outputs": [
    {
     "data": {
      "text/plain": [
       "<Response [200]>"
      ]
     },
     "execution_count": 19,
     "metadata": {},
     "output_type": "execute_result"
    }
   ],
   "source": [
    "answer = \"\"\"\n",
    "Your answer here.\n",
    "\"\"\"\n",
    "\n",
    "send(answer, 15) "
   ]
  },
  {
   "cell_type": "markdown",
   "id": "16dd936e-1f0e-446e-955f-4a3d01f93426",
   "metadata": {},
   "source": [
    "### 1.6 Is this an appropriate method? Explain why or why not."
   ]
  },
  {
   "cell_type": "code",
   "execution_count": 20,
   "id": "ef580634-10ae-42cb-a2bb-d40864d8f197",
   "metadata": {},
   "outputs": [
    {
     "data": {
      "text/plain": [
       "<Response [200]>"
      ]
     },
     "execution_count": 20,
     "metadata": {},
     "output_type": "execute_result"
    }
   ],
   "source": [
    "answer = \"\"\"\n",
    "Your answer here.\n",
    "\"\"\"\n",
    "\n",
    "send(answer, 16) "
   ]
  },
  {
   "cell_type": "markdown",
   "id": "17a0f101-c91c-42db-9a56-2852d9e52f0d",
   "metadata": {},
   "source": [
    "# Task 2: Linear Model with Fixed Effects\n",
    "----------\n",
    "### 2.1  Run a regression model to explain the effect of studying hours on quiz grade. Add fixed effects for group. "
   ]
  },
  {
   "cell_type": "code",
   "execution_count": 40,
   "id": "4d58cec3-b70c-43ae-867d-797962a49e5a",
   "metadata": {},
   "outputs": [
    {
     "name": "stdout",
     "output_type": "stream",
     "text": [
      "Formula: quiz_grade~studying_hours+group\n",
      "\n",
      "Family: gaussian\t Estimator: OLS\n",
      "\n",
      "Std-errors: non-robust\tCIs: standard 95%\tInference: parametric \n",
      "\n",
      "Number of observations: 24\t R^2: 0.290\t R^2_adj: 0.223\n",
      "\n",
      "Log-likelihood: -14.313 \t AIC: 34.627\t BIC: 38.161\n",
      "\n",
      "Fixed effects:\n",
      "\n",
      "                Estimate  2.5_ci  97.5_ci     SE  DF  T-stat  P-val  Sig\n",
      "Intercept          5.724   4.783    6.666  0.453  21  12.650  0.000  ***\n",
      "studying_hours     0.058  -0.008    0.125  0.032  21   1.817  0.084    .\n",
      "group              0.350   0.079    0.620  0.130  21   2.690  0.014    *\n"
     ]
    }
   ],
   "source": [
    "model_str = \"quiz_grade ~  studying_hours + group\"\n",
    "#send(model_str, 21)\n",
    "# Add the data and family\n",
    "model = Lm(model_str, data=df_train, family= 'gaussian')\n",
    "\n",
    "# Fit the models\n",
    "print(model.fit())"
   ]
  },
  {
   "cell_type": "markdown",
   "id": "694b3801-e7e4-43f2-b2ad-6a408769dae3",
   "metadata": {},
   "source": [
    "### 2.2 Interpret the regression results. \n",
    "What changed? What does it mean to have group fixed effects? "
   ]
  },
  {
   "cell_type": "code",
   "execution_count": 128,
   "id": "20c2cc5d-7d52-4234-80b6-e83e68c20d5d",
   "metadata": {},
   "outputs": [
    {
     "data": {
      "text/plain": [
       "<Response [200]>"
      ]
     },
     "execution_count": 128,
     "metadata": {},
     "output_type": "execute_result"
    }
   ],
   "source": [
    "answer = \"\"\"\n",
    "Your answer here.\n",
    "\"\"\"\n",
    "\n",
    "send(answer, 22) "
   ]
  },
  {
   "cell_type": "markdown",
   "id": "abfcaffc-7c69-4a5e-84d4-137c1835aa99",
   "metadata": {},
   "source": [
    "# Task 3: Linear Model with Random Effects\n",
    "----------\n",
    "### 3.1  Run a regression model to explain the effect of studying hours on quiz grade. Add random intercept for group. "
   ]
  },
  {
   "cell_type": "code",
   "execution_count": 49,
   "id": "76ac434b-6e18-4d29-80a1-c18f91f42fd8",
   "metadata": {},
   "outputs": [
    {
     "name": "stdout",
     "output_type": "stream",
     "text": [
      "Formula: quiz_grade~(1|group)+studying_hours\n",
      "\n",
      "Family: gaussian\t Inference: parametric\n",
      "\n",
      "Number of observations: 24\t Groups: {'group': 3.0}\n",
      "\n",
      "Log-likelihood: -20.300 \t AIC: 40.601\n",
      "\n",
      "Random effects:\n",
      "\n",
      "                 Name    Var    Std\n",
      "group     (Intercept)  0.105  0.324\n",
      "Residual               0.222  0.472\n",
      "\n",
      "No random effect correlations specified\n",
      "\n",
      "Fixed effects:\n",
      "\n",
      "                Estimate  2.5_ci  97.5_ci     SE      DF  T-stat  P-val  Sig\n",
      "(Intercept)        6.291   5.428    7.153  0.440  12.309  14.293  0.000  ***\n",
      "studying_hours     0.069  -0.006    0.144  0.038  21.542   1.797  0.086    .\n"
     ]
    }
   ],
   "source": [
    "model_str = \"quiz_grade ~  (1|group) + studying_hours\"\n",
    "#send(model_str, 31)\n",
    "# Add the data and family\n",
    "model = Lmer(model_str, data=df_train, family='gaussian' )\n",
    "\n",
    "# Fit the models\n",
    "print(model.fit())"
   ]
  },
  {
   "cell_type": "markdown",
   "id": "7f465dbe-bd68-477e-8a15-8df2a20b287a",
   "metadata": {},
   "source": [
    "### 3.2 Plot the regression lines\n",
    "Hint: You may use model.plot"
   ]
  },
  {
   "cell_type": "code",
   "execution_count": null,
   "id": "ead9960c-e591-47f0-916b-1d13dc73f5ff",
   "metadata": {},
   "outputs": [],
   "source": []
  },
  {
   "cell_type": "markdown",
   "id": "6ace3d7c-b733-4427-8213-f21de6907290",
   "metadata": {},
   "source": [
    "### 3.3  Run a regression model to explain the effect of studying hours on quiz grade. Add slope for group. "
   ]
  },
  {
   "cell_type": "code",
   "execution_count": 48,
   "id": "241ca33e-b570-4129-8480-2822ab968327",
   "metadata": {},
   "outputs": [
    {
     "name": "stdout",
     "output_type": "stream",
     "text": [
      "Formula: quiz_grade~(0+studying_hours|group)\n",
      "\n",
      "Family: gaussian\t Inference: parametric\n",
      "\n",
      "Number of observations: 24\t Groups: {'group': 3.0}\n",
      "\n",
      "Log-likelihood: -19.375 \t AIC: 38.750\n",
      "\n",
      "Random effects:\n",
      "\n",
      "                    Name    Var    Std\n",
      "group     studying_hours  0.000  0.021\n",
      "Residual                  0.253  0.503\n",
      "\n",
      "No random effect correlations specified\n",
      "\n",
      "Fixed effects:\n",
      "\n",
      "             Estimate  2.5_ci  97.5_ci     SE     DF  T-stat  P-val  Sig\n",
      "(Intercept)     6.913   6.608    7.217  0.156  1.905  44.443  0.001  ***\n"
     ]
    }
   ],
   "source": [
    "model_str = \"quiz_grade ~ (0 + studying_hours|group)\"\n",
    "#send(model_str, 33)\n",
    "# Add the data and family\n",
    "model = Lmer(model_str, data=df_train, family='gaussian' )\n",
    "\n",
    "# Fit the models\n",
    "print(model.fit())"
   ]
  },
  {
   "cell_type": "markdown",
   "id": "e5a90d6a-27d2-477f-aee2-2496962523b6",
   "metadata": {},
   "source": [
    "### 3.4 Plot the regression lines\n",
    "Hint: You may use model.ranef"
   ]
  },
  {
   "cell_type": "code",
   "execution_count": null,
   "id": "edda77a8-1961-4306-a0ef-26b734c6a22f",
   "metadata": {},
   "outputs": [],
   "source": []
  },
  {
   "cell_type": "markdown",
   "id": "d7975173-1541-4646-a195-193b12d47d7a",
   "metadata": {},
   "source": [
    "### 3.5  Run a regression model to explain the effect of studying hours on quiz grade. Add random intercept and slope for group. "
   ]
  },
  {
   "cell_type": "code",
   "execution_count": 51,
   "id": "a579cdb0-6515-41ba-aa06-fae28faf5990",
   "metadata": {},
   "outputs": [
    {
     "name": "stdout",
     "output_type": "stream",
     "text": [
      "Formula: quiz_grade~(0+studying_hours|group)\n",
      "\n",
      "Family: gaussian\t Inference: parametric\n",
      "\n",
      "Number of observations: 24\t Groups: {'group': 3.0}\n",
      "\n",
      "Log-likelihood: -19.375 \t AIC: 38.750\n",
      "\n",
      "Random effects:\n",
      "\n",
      "                    Name    Var    Std\n",
      "group     studying_hours  0.000  0.021\n",
      "Residual                  0.253  0.503\n",
      "\n",
      "No random effect correlations specified\n",
      "\n",
      "Fixed effects:\n",
      "\n",
      "             Estimate  2.5_ci  97.5_ci     SE     DF  T-stat  P-val  Sig\n",
      "(Intercept)     6.913   6.608    7.217  0.156  1.905  44.443  0.001  ***\n"
     ]
    }
   ],
   "source": [
    "model_str = \"quiz_grade ~ (0 + studying_hours|group)\"\n",
    "#send(model_str, 35)\n",
    "# Add the data and family\n",
    "model = Lmer(model_str, data=df_train, family='gaussian' )\n",
    "\n",
    "# Fit the models\n",
    "print(model.fit())"
   ]
  },
  {
   "cell_type": "markdown",
   "id": "bec50086-6099-4511-a55c-c7eb24e803ca",
   "metadata": {},
   "source": [
    "### 3.6 Plot the regression lines"
   ]
  },
  {
   "cell_type": "code",
   "execution_count": null,
   "id": "275a3948-1f83-4508-9e39-a10063184d3c",
   "metadata": {},
   "outputs": [],
   "source": []
  },
  {
   "cell_type": "markdown",
   "id": "5f3714d0-feb1-44f5-b401-d2b19b131174",
   "metadata": {},
   "source": [
    "### 3.7 Interpret the regression results. \n",
    "What changed? What does it mean to have group random effects? "
   ]
  },
  {
   "cell_type": "code",
   "execution_count": 230,
   "id": "14f080cf-c214-42ba-8373-5ad0cdb19d23",
   "metadata": {},
   "outputs": [
    {
     "data": {
      "text/plain": [
       "<Response [200]>"
      ]
     },
     "execution_count": 230,
     "metadata": {},
     "output_type": "execute_result"
    }
   ],
   "source": [
    "answer = \"\"\"\n",
    "Your answer here. \n",
    "\"\"\"\n",
    "\n",
    "send(answer, 37) "
   ]
  },
  {
   "cell_type": "markdown",
   "id": "514ca48e-654a-4b2e-983b-d1a836e506dc",
   "metadata": {},
   "source": [
    "# Task 4: Mixed Model with Time Interaction \n",
    "----------\n",
    "### 4.1  Lastly, run a regression model to explain the effect of studying hours on quiz grade. Add random intercept and slope for groups AND interaction between the number of stuyding hours and time (weeks). \n"
   ]
  },
  {
   "cell_type": "code",
   "execution_count": null,
   "id": "5dd977e7-a57e-4a28-8c1b-4c4807318288",
   "metadata": {},
   "outputs": [],
   "source": [
    "model_str = \"\"\"Write your model here \"\"\"\n",
    "send(model_str, 41)\n",
    "# Add the data and family\n",
    "model = Lmer(model_str, data=, family= )\n",
    "\n",
    "# Fit the models\n",
    "print(model.fit())"
   ]
  },
  {
   "cell_type": "markdown",
   "id": "87f08a84-5621-40a3-a70e-c69b062d6b58",
   "metadata": {},
   "source": [
    "### 4.2 Interpret the regression results.  "
   ]
  },
  {
   "cell_type": "code",
   "execution_count": 38,
   "id": "3e561b73-e292-4bb2-ad11-c3e01190a54f",
   "metadata": {},
   "outputs": [
    {
     "data": {
      "text/plain": [
       "<Response [200]>"
      ]
     },
     "execution_count": 38,
     "metadata": {},
     "output_type": "execute_result"
    }
   ],
   "source": [
    "answer = \"\"\"\n",
    "Your answer here.\n",
    "\"\"\"\n",
    "\n",
    "send(answer, 42) "
   ]
  }
 ],
 "metadata": {
  "kernelspec": {
   "display_name": "Python",
   "language": "python",
   "name": "python3"
  },
  "language_info": {
   "codemirror_mode": {
    "name": "ipython",
    "version": 3
   },
   "file_extension": ".py",
   "mimetype": "text/x-python",
   "name": "python",
   "nbconvert_exporter": "python",
   "pygments_lexer": "ipython3",
   "version": "3.8.10"
  },
  "vscode": {
   "interpreter": {
    "hash": "40d3a090f54c6569ab1632332b64b2c03c39dcf918b08424e98f38b5ae0af88f"
   }
  }
 },
 "nbformat": 4,
 "nbformat_minor": 5
}
